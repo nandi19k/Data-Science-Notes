{
 "cells": [
  {
   "cell_type": "code",
   "execution_count": 1,
   "id": "23af643e-9b31-409e-8f7d-c182d9c8775c",
   "metadata": {},
   "outputs": [
    {
     "name": "stdout",
     "output_type": "stream",
     "text": [
      "Requirement already satisfied: numpy in /Users/kreddy/miniconda3/envs/llm/lib/python3.11/site-packages (1.26.4)\n",
      "Requirement already satisfied: pandas in /Users/kreddy/miniconda3/envs/llm/lib/python3.11/site-packages (2.2.3)\n",
      "Collecting seaborn\n",
      "  Using cached seaborn-0.13.2-py3-none-any.whl.metadata (5.4 kB)\n",
      "Requirement already satisfied: matplotlib in /Users/kreddy/miniconda3/envs/llm/lib/python3.11/site-packages (3.9.2)\n",
      "Requirement already satisfied: python-dateutil>=2.8.2 in /Users/kreddy/miniconda3/envs/llm/lib/python3.11/site-packages (from pandas) (2.9.0.post0)\n",
      "Requirement already satisfied: pytz>=2020.1 in /Users/kreddy/miniconda3/envs/llm/lib/python3.11/site-packages (from pandas) (2024.2)\n",
      "Requirement already satisfied: tzdata>=2022.7 in /Users/kreddy/miniconda3/envs/llm/lib/python3.11/site-packages (from pandas) (2024.2)\n",
      "Requirement already satisfied: contourpy>=1.0.1 in /Users/kreddy/miniconda3/envs/llm/lib/python3.11/site-packages (from matplotlib) (1.3.1)\n",
      "Requirement already satisfied: cycler>=0.10 in /Users/kreddy/miniconda3/envs/llm/lib/python3.11/site-packages (from matplotlib) (0.12.1)\n",
      "Requirement already satisfied: fonttools>=4.22.0 in /Users/kreddy/miniconda3/envs/llm/lib/python3.11/site-packages (from matplotlib) (4.54.1)\n",
      "Requirement already satisfied: kiwisolver>=1.3.1 in /Users/kreddy/miniconda3/envs/llm/lib/python3.11/site-packages (from matplotlib) (1.4.7)\n",
      "Requirement already satisfied: packaging>=20.0 in /Users/kreddy/miniconda3/envs/llm/lib/python3.11/site-packages (from matplotlib) (23.2)\n",
      "Requirement already satisfied: pillow>=8 in /Users/kreddy/miniconda3/envs/llm/lib/python3.11/site-packages (from matplotlib) (11.0.0)\n",
      "Requirement already satisfied: pyparsing>=2.3.1 in /Users/kreddy/miniconda3/envs/llm/lib/python3.11/site-packages (from matplotlib) (3.2.0)\n",
      "Requirement already satisfied: six>=1.5 in /Users/kreddy/miniconda3/envs/llm/lib/python3.11/site-packages (from python-dateutil>=2.8.2->pandas) (1.16.0)\n",
      "Using cached seaborn-0.13.2-py3-none-any.whl (294 kB)\n",
      "Installing collected packages: seaborn\n",
      "Successfully installed seaborn-0.13.2\n"
     ]
    }
   ],
   "source": [
    "!pip install numpy pandas seaborn matplotlib"
   ]
  },
  {
   "cell_type": "code",
   "execution_count": 1,
   "id": "fab4e00f-585a-426b-95f8-454f416a83c9",
   "metadata": {},
   "outputs": [],
   "source": [
    "import numpy as np\n",
    "import pandas as pd\n",
    "import matplotlib.pyplot as plt\n",
    "import seaborn as sns\n",
    "\n",
    "# Step 1: Load the dataset\n",
    "dataset = pd.read_csv(\"../datasets/matches.csv\")"
   ]
  },
  {
   "cell_type": "code",
   "execution_count": 2,
   "id": "44b83975-8cfe-4029-936a-43ca65e26064",
   "metadata": {},
   "outputs": [
    {
     "name": "stdout",
     "output_type": "stream",
     "text": [
      "First 5 rows of the dataset:\n"
     ]
    },
    {
     "data": {
      "text/html": [
       "<div>\n",
       "<style scoped>\n",
       "    .dataframe tbody tr th:only-of-type {\n",
       "        vertical-align: middle;\n",
       "    }\n",
       "\n",
       "    .dataframe tbody tr th {\n",
       "        vertical-align: top;\n",
       "    }\n",
       "\n",
       "    .dataframe thead th {\n",
       "        text-align: right;\n",
       "    }\n",
       "</style>\n",
       "<table border=\"1\" class=\"dataframe\">\n",
       "  <thead>\n",
       "    <tr style=\"text-align: right;\">\n",
       "      <th></th>\n",
       "      <th>id</th>\n",
       "      <th>season</th>\n",
       "      <th>city</th>\n",
       "      <th>date</th>\n",
       "      <th>team1</th>\n",
       "      <th>team2</th>\n",
       "      <th>toss_winner</th>\n",
       "      <th>toss_decision</th>\n",
       "      <th>result</th>\n",
       "      <th>dl_applied</th>\n",
       "      <th>winner</th>\n",
       "      <th>win_by_runs</th>\n",
       "      <th>win_by_wickets</th>\n",
       "      <th>player_of_match</th>\n",
       "      <th>venue</th>\n",
       "      <th>umpire1</th>\n",
       "      <th>umpire2</th>\n",
       "      <th>umpire3</th>\n",
       "    </tr>\n",
       "  </thead>\n",
       "  <tbody>\n",
       "    <tr>\n",
       "      <th>0</th>\n",
       "      <td>1</td>\n",
       "      <td>2017</td>\n",
       "      <td>Hyderabad</td>\n",
       "      <td>4/5/2017</td>\n",
       "      <td>Sunrisers Hyderabad</td>\n",
       "      <td>Royal Challengers Bangalore</td>\n",
       "      <td>Royal Challengers Bangalore</td>\n",
       "      <td>field</td>\n",
       "      <td>normal</td>\n",
       "      <td>0</td>\n",
       "      <td>Sunrisers Hyderabad</td>\n",
       "      <td>35</td>\n",
       "      <td>0</td>\n",
       "      <td>Yuvraj Singh</td>\n",
       "      <td>Rajiv Gandhi International Stadium, Uppal</td>\n",
       "      <td>AY Dandekar</td>\n",
       "      <td>NJ Llong</td>\n",
       "      <td>NaN</td>\n",
       "    </tr>\n",
       "    <tr>\n",
       "      <th>1</th>\n",
       "      <td>2</td>\n",
       "      <td>2017</td>\n",
       "      <td>Pune</td>\n",
       "      <td>4/6/2017</td>\n",
       "      <td>Mumbai Indians</td>\n",
       "      <td>Rising Pune Supergiant</td>\n",
       "      <td>Rising Pune Supergiant</td>\n",
       "      <td>field</td>\n",
       "      <td>normal</td>\n",
       "      <td>0</td>\n",
       "      <td>Rising Pune Supergiant</td>\n",
       "      <td>0</td>\n",
       "      <td>7</td>\n",
       "      <td>SPD Smith</td>\n",
       "      <td>Maharashtra Cricket Association Stadium</td>\n",
       "      <td>A Nand Kishore</td>\n",
       "      <td>S Ravi</td>\n",
       "      <td>NaN</td>\n",
       "    </tr>\n",
       "    <tr>\n",
       "      <th>2</th>\n",
       "      <td>3</td>\n",
       "      <td>2017</td>\n",
       "      <td>Rajkot</td>\n",
       "      <td>4/7/2017</td>\n",
       "      <td>Gujarat Lions</td>\n",
       "      <td>Kolkata Knight Riders</td>\n",
       "      <td>Kolkata Knight Riders</td>\n",
       "      <td>field</td>\n",
       "      <td>normal</td>\n",
       "      <td>0</td>\n",
       "      <td>Kolkata Knight Riders</td>\n",
       "      <td>0</td>\n",
       "      <td>10</td>\n",
       "      <td>CA Lynn</td>\n",
       "      <td>Saurashtra Cricket Association Stadium</td>\n",
       "      <td>Nitin Menon</td>\n",
       "      <td>CK Nandan</td>\n",
       "      <td>NaN</td>\n",
       "    </tr>\n",
       "    <tr>\n",
       "      <th>3</th>\n",
       "      <td>4</td>\n",
       "      <td>2017</td>\n",
       "      <td>Indore</td>\n",
       "      <td>4/8/2017</td>\n",
       "      <td>Rising Pune Supergiant</td>\n",
       "      <td>Kings XI Punjab</td>\n",
       "      <td>Kings XI Punjab</td>\n",
       "      <td>field</td>\n",
       "      <td>normal</td>\n",
       "      <td>0</td>\n",
       "      <td>Kings XI Punjab</td>\n",
       "      <td>0</td>\n",
       "      <td>6</td>\n",
       "      <td>GJ Maxwell</td>\n",
       "      <td>Holkar Cricket Stadium</td>\n",
       "      <td>AK Chaudhary</td>\n",
       "      <td>C Shamshuddin</td>\n",
       "      <td>NaN</td>\n",
       "    </tr>\n",
       "    <tr>\n",
       "      <th>4</th>\n",
       "      <td>5</td>\n",
       "      <td>2017</td>\n",
       "      <td>Bangalore</td>\n",
       "      <td>4/8/2017</td>\n",
       "      <td>Royal Challengers Bangalore</td>\n",
       "      <td>Delhi Daredevils</td>\n",
       "      <td>Royal Challengers Bangalore</td>\n",
       "      <td>bat</td>\n",
       "      <td>normal</td>\n",
       "      <td>0</td>\n",
       "      <td>Royal Challengers Bangalore</td>\n",
       "      <td>15</td>\n",
       "      <td>0</td>\n",
       "      <td>KM Jadhav</td>\n",
       "      <td>M Chinnaswamy Stadium</td>\n",
       "      <td>NaN</td>\n",
       "      <td>NaN</td>\n",
       "      <td>NaN</td>\n",
       "    </tr>\n",
       "  </tbody>\n",
       "</table>\n",
       "</div>"
      ],
      "text/plain": [
       "   id  season       city      date                        team1  \\\n",
       "0   1    2017  Hyderabad  4/5/2017          Sunrisers Hyderabad   \n",
       "1   2    2017       Pune  4/6/2017               Mumbai Indians   \n",
       "2   3    2017     Rajkot  4/7/2017                Gujarat Lions   \n",
       "3   4    2017     Indore  4/8/2017       Rising Pune Supergiant   \n",
       "4   5    2017  Bangalore  4/8/2017  Royal Challengers Bangalore   \n",
       "\n",
       "                         team2                  toss_winner toss_decision  \\\n",
       "0  Royal Challengers Bangalore  Royal Challengers Bangalore         field   \n",
       "1       Rising Pune Supergiant       Rising Pune Supergiant         field   \n",
       "2        Kolkata Knight Riders        Kolkata Knight Riders         field   \n",
       "3              Kings XI Punjab              Kings XI Punjab         field   \n",
       "4             Delhi Daredevils  Royal Challengers Bangalore           bat   \n",
       "\n",
       "   result  dl_applied                       winner  win_by_runs  \\\n",
       "0  normal           0          Sunrisers Hyderabad           35   \n",
       "1  normal           0       Rising Pune Supergiant            0   \n",
       "2  normal           0        Kolkata Knight Riders            0   \n",
       "3  normal           0              Kings XI Punjab            0   \n",
       "4  normal           0  Royal Challengers Bangalore           15   \n",
       "\n",
       "   win_by_wickets player_of_match                                      venue  \\\n",
       "0               0    Yuvraj Singh  Rajiv Gandhi International Stadium, Uppal   \n",
       "1               7       SPD Smith    Maharashtra Cricket Association Stadium   \n",
       "2              10         CA Lynn     Saurashtra Cricket Association Stadium   \n",
       "3               6      GJ Maxwell                     Holkar Cricket Stadium   \n",
       "4               0       KM Jadhav                      M Chinnaswamy Stadium   \n",
       "\n",
       "          umpire1        umpire2  umpire3  \n",
       "0     AY Dandekar       NJ Llong      NaN  \n",
       "1  A Nand Kishore         S Ravi      NaN  \n",
       "2     Nitin Menon      CK Nandan      NaN  \n",
       "3    AK Chaudhary  C Shamshuddin      NaN  \n",
       "4             NaN            NaN      NaN  "
      ]
     },
     "execution_count": 2,
     "metadata": {},
     "output_type": "execute_result"
    }
   ],
   "source": [
    "# Step 2: Initial data exploration\n",
    "print(\"First 5 rows of the dataset:\")\n",
    "dataset.head()"
   ]
  },
  {
   "cell_type": "code",
   "execution_count": 3,
   "id": "6517b1ac-f862-4aad-9285-7be134ad2eca",
   "metadata": {},
   "outputs": [
    {
     "name": "stdout",
     "output_type": "stream",
     "text": [
      "\n",
      "Missing values in each column:\n",
      "id                   0\n",
      "season               0\n",
      "city                 7\n",
      "date                 0\n",
      "team1                0\n",
      "team2                0\n",
      "toss_winner          0\n",
      "toss_decision        0\n",
      "result               0\n",
      "dl_applied           0\n",
      "winner               3\n",
      "win_by_runs          0\n",
      "win_by_wickets       0\n",
      "player_of_match      3\n",
      "venue                0\n",
      "umpire1              1\n",
      "umpire2              1\n",
      "umpire3            636\n",
      "dtype: int64\n"
     ]
    }
   ],
   "source": [
    "# Step 3: Check for missing values\n",
    "print(\"\\nMissing values in each column:\")\n",
    "print(dataset.isna().sum())\n"
   ]
  },
  {
   "cell_type": "code",
   "execution_count": 4,
   "id": "207fe1fc-05bc-46b7-8350-841a8c7c64b0",
   "metadata": {},
   "outputs": [
    {
     "name": "stdout",
     "output_type": "stream",
     "text": [
      "\n",
      "Shape of the dataset: (636, 18)\n"
     ]
    }
   ],
   "source": [
    "# Step 4: Check dataset dimensions\n",
    "print(\"\\nShape of the dataset:\", dataset.shape)"
   ]
  },
  {
   "cell_type": "code",
   "execution_count": 5,
   "id": "127f9ddc-084b-496b-9d9a-988e57443ef6",
   "metadata": {},
   "outputs": [
    {
     "name": "stdout",
     "output_type": "stream",
     "text": [
      "\n",
      "Columns after dropping umpire3:\n",
      "Index(['id', 'season', 'city', 'date', 'team1', 'team2', 'toss_winner',\n",
      "       'toss_decision', 'result', 'dl_applied', 'winner', 'win_by_runs',\n",
      "       'win_by_wickets', 'player_of_match', 'venue', 'umpire1', 'umpire2'],\n",
      "      dtype='object')\n"
     ]
    }
   ],
   "source": [
    "# Step 5: Drop unnecessary column with too many missing values\n",
    "dataset.drop(['umpire3'], axis=1, inplace=True)\n",
    "print(\"\\nColumns after dropping umpire3:\")\n",
    "print(dataset.columns)"
   ]
  },
  {
   "cell_type": "code",
   "execution_count": 6,
   "id": "905cd3a9-cf16-48f5-863f-4f973eebb70f",
   "metadata": {},
   "outputs": [],
   "source": [
    "# Step 6: Create a mapping dictionary to convert full team names to abbreviations\n",
    "Teams = {\n",
    "    'Mumbai Indians': 'MI',\n",
    "    'Kolkata Knight Riders': 'KKR',\n",
    "    'Chennai Super Kings': 'CSK',\n",
    "    'Rajasthan Royals': 'RR',\n",
    "    'Deccan Chargers': 'DC',\n",
    "    'Kochi Tuskers Kerala': 'KTK',\n",
    "    'Pune Warriors': 'PW',\n",
    "    'Rising Pune Supergiants': 'RPS',\n",
    "    'Royal Challengers Bangalore': 'RCB',\n",
    "    'Sunrisers Hyderabad': 'SRH',\n",
    "    'Rising Pune Supergiant': 'RPS',\n",
    "    'Gujarat Lions': 'GL',\n",
    "    'Kings XI Punjab': 'KXIP',\n",
    "    'Delhi Daredevils': 'DD'\n",
    "}"
   ]
  },
  {
   "cell_type": "code",
   "execution_count": 7,
   "id": "a7b62cc3-ed44-4158-b8e0-7109c96e17de",
   "metadata": {},
   "outputs": [
    {
     "name": "stdout",
     "output_type": "stream",
     "text": [
      "\n",
      "Dataset after mapping team names:\n",
      "   id  season       city      date team1 team2                  toss_winner  \\\n",
      "0   1    2017  Hyderabad  4/5/2017   SRH   RCB  Royal Challengers Bangalore   \n",
      "1   2    2017       Pune  4/6/2017    MI   RPS       Rising Pune Supergiant   \n",
      "2   3    2017     Rajkot  4/7/2017    GL   KKR        Kolkata Knight Riders   \n",
      "3   4    2017     Indore  4/8/2017   RPS  KXIP              Kings XI Punjab   \n",
      "4   5    2017  Bangalore  4/8/2017   RCB    DD  Royal Challengers Bangalore   \n",
      "\n",
      "  toss_decision  result  dl_applied                       winner  win_by_runs  \\\n",
      "0         field  normal           0          Sunrisers Hyderabad           35   \n",
      "1         field  normal           0       Rising Pune Supergiant            0   \n",
      "2         field  normal           0        Kolkata Knight Riders            0   \n",
      "3         field  normal           0              Kings XI Punjab            0   \n",
      "4           bat  normal           0  Royal Challengers Bangalore           15   \n",
      "\n",
      "   win_by_wickets player_of_match                                      venue  \\\n",
      "0               0    Yuvraj Singh  Rajiv Gandhi International Stadium, Uppal   \n",
      "1               7       SPD Smith    Maharashtra Cricket Association Stadium   \n",
      "2              10         CA Lynn     Saurashtra Cricket Association Stadium   \n",
      "3               6      GJ Maxwell                     Holkar Cricket Stadium   \n",
      "4               0       KM Jadhav                      M Chinnaswamy Stadium   \n",
      "\n",
      "          umpire1        umpire2  \n",
      "0     AY Dandekar       NJ Llong  \n",
      "1  A Nand Kishore         S Ravi  \n",
      "2     Nitin Menon      CK Nandan  \n",
      "3    AK Chaudhary  C Shamshuddin  \n",
      "4             NaN            NaN  \n"
     ]
    }
   ],
   "source": [
    "# Step 7: Apply the team name mapping to team1 and team2 columns\n",
    "dataset['team1'] = dataset['team1'].map(Teams)\n",
    "dataset['team2'] = dataset['team2'].map(Teams)\n",
    "print(\"\\nDataset after mapping team names:\")\n",
    "print(dataset.head())"
   ]
  },
  {
   "cell_type": "code",
   "execution_count": 8,
   "id": "4762acce-492b-4058-9ce2-0efd8ccbd0f7",
   "metadata": {},
   "outputs": [
    {
     "name": "stdout",
     "output_type": "stream",
     "text": [
      "\n",
      "Top players with most 'Player of the Match' awards:\n",
      "player_of_match\n",
      "CH Gayle          18\n",
      "YK Pathan         16\n",
      "DA Warner         15\n",
      "AB de Villiers    15\n",
      "RG Sharma         14\n",
      "SK Raina          14\n",
      "MS Dhoni          13\n",
      "G Gambhir         13\n",
      "AM Rahane         12\n",
      "MEK Hussey        12\n",
      "Name: count, dtype: int64\n"
     ]
    }
   ],
   "source": [
    "# Step 8: Analyze player of the match awards\n",
    "print(\"\\nTop players with most 'Player of the Match' awards:\")\n",
    "print(dataset['player_of_match'].value_counts().head(10))"
   ]
  },
  {
   "cell_type": "code",
   "execution_count": 9,
   "id": "65436a79-6df1-435a-b523-b1a6b62e42f3",
   "metadata": {},
   "outputs": [
    {
     "name": "stdout",
     "output_type": "stream",
     "text": [
      "\n",
      "Unique teams in the dataset:\n",
      "['SRH' 'MI' 'GL' 'RPS' 'RCB' 'KKR' 'DD' 'KXIP' 'CSK' 'RR' 'DC' 'KTK' 'PW']\n"
     ]
    }
   ],
   "source": [
    "# Step 9: Identify unique teams and venues\n",
    "print(\"\\nUnique teams in the dataset:\")\n",
    "print(dataset['team1'].unique())"
   ]
  },
  {
   "cell_type": "code",
   "execution_count": 10,
   "id": "33fbb66f-de9f-43b4-91e2-7ba326b9ff6a",
   "metadata": {},
   "outputs": [
    {
     "name": "stdout",
     "output_type": "stream",
     "text": [
      "\n",
      "Unique cities where matches were played:\n",
      "['Hyderabad' 'Pune' 'Rajkot' 'Indore' 'Bangalore' 'Mumbai' 'Kolkata'\n",
      " 'Delhi' 'Chandigarh' 'Kanpur' 'Jaipur' 'Chennai' 'Cape Town'\n",
      " 'Port Elizabeth' 'Durban' 'Centurion' 'East London' 'Johannesburg'\n",
      " 'Kimberley' 'Bloemfontein' 'Ahmedabad' 'Cuttack' 'Nagpur' 'Dharamsala'\n",
      " 'Kochi' 'Visakhapatnam' 'Raipur' 'Ranchi' 'Abu Dhabi' 'Sharjah' nan]\n"
     ]
    }
   ],
   "source": [
    "print(\"\\nUnique cities where matches were played:\")\n",
    "print(dataset['city'].unique())"
   ]
  },
  {
   "cell_type": "code",
   "execution_count": 11,
   "id": "94a0e417-9ee3-4eb5-bd0e-b32dfff3d416",
   "metadata": {},
   "outputs": [
    {
     "name": "stdout",
     "output_type": "stream",
     "text": [
      "\n",
      "Maximum win by runs: 146\n",
      "\n",
      "Match with the highest win by runs:\n",
      "    id  season   city      date team1 team2       toss_winner toss_decision  \\\n",
      "43  44    2017  Delhi  5/6/2017    MI    DD  Delhi Daredevils         field   \n",
      "\n",
      "    result  dl_applied          winner  win_by_runs  win_by_wickets  \\\n",
      "43  normal           0  Mumbai Indians          146               0   \n",
      "\n",
      "   player_of_match             venue      umpire1    umpire2  \n",
      "43     LMP Simmons  Feroz Shah Kotla  Nitin Menon  CK Nandan  \n"
     ]
    }
   ],
   "source": [
    "# Step 10: Find the match with maximum win by runs\n",
    "max_win_by_runs = dataset['win_by_runs'].max()\n",
    "print(f\"\\nMaximum win by runs: {max_win_by_runs}\")\n",
    "print(\"\\nMatch with the highest win by runs:\")\n",
    "print(dataset[dataset['win_by_runs'] == max_win_by_runs])"
   ]
  },
  {
   "cell_type": "code",
   "execution_count": 12,
   "id": "cc6cb2cb-f411-4c85-a5fa-234ccbb564ef",
   "metadata": {},
   "outputs": [
    {
     "name": "stdout",
     "output_type": "stream",
     "text": [
      "\n",
      "Maximum win by wickets: 10\n",
      "\n",
      "Matches with the highest win by wickets:\n",
      "      id  season        city       date team1 team2  \\\n",
      "2      3    2017      Rajkot   4/7/2017    GL   KKR   \n",
      "34    35    2017  Chandigarh  4/30/2017    DD  KXIP   \n",
      "71    72    2008      Mumbai  4/27/2008    MI    DC   \n",
      "119  120    2009   Cape Town  4/19/2009  KXIP    DD   \n",
      "183  184    2010   Bangalore  3/18/2010    RR   RCB   \n",
      "298  299    2011      Mumbai  5/20/2011    MI    RR   \n",
      "376  377    2012      Jaipur  5/20/2012    RR    MI   \n",
      "390  391    2013  Chandigarh  4/10/2013  KXIP   CSK   \n",
      "542  543    2015       Delhi  4/26/2015    DD   RCB   \n",
      "590  591    2016      Rajkot  4/21/2016    GL   SRH   \n",
      "\n",
      "                     toss_winner toss_decision  result  dl_applied  \\\n",
      "2          Kolkata Knight Riders         field  normal           0   \n",
      "34               Kings XI Punjab         field  normal           0   \n",
      "71               Deccan Chargers         field  normal           0   \n",
      "119             Delhi Daredevils         field  normal           1   \n",
      "183  Royal Challengers Bangalore         field  normal           0   \n",
      "298               Mumbai Indians           bat  normal           0   \n",
      "376             Rajasthan Royals           bat  normal           0   \n",
      "390          Chennai Super Kings         field  normal           0   \n",
      "542  Royal Challengers Bangalore         field  normal           0   \n",
      "590          Sunrisers Hyderabad         field  normal           0   \n",
      "\n",
      "                          winner  win_by_runs  win_by_wickets player_of_match  \\\n",
      "2          Kolkata Knight Riders            0              10         CA Lynn   \n",
      "34               Kings XI Punjab            0              10  Sandeep Sharma   \n",
      "71               Deccan Chargers            0              10    AC Gilchrist   \n",
      "119             Delhi Daredevils            0              10      DL Vettori   \n",
      "183  Royal Challengers Bangalore            0              10       JH Kallis   \n",
      "298             Rajasthan Royals            0              10       SR Watson   \n",
      "376               Mumbai Indians            0              10        DR Smith   \n",
      "390          Chennai Super Kings            0              10      MEK Hussey   \n",
      "542  Royal Challengers Bangalore            0              10        VR Aaron   \n",
      "590          Sunrisers Hyderabad            0              10         B Kumar   \n",
      "\n",
      "                                                 venue          umpire1  \\\n",
      "2               Saurashtra Cricket Association Stadium      Nitin Menon   \n",
      "34   Punjab Cricket Association IS Bindra Stadium, ...         YC Barde   \n",
      "71                          Dr DY Patil Sports Academy        Asad Rauf   \n",
      "119                                           Newlands        MR Benson   \n",
      "183                              M Chinnaswamy Stadium      K Hariharan   \n",
      "298                                   Wankhede Stadium      RE Koertzen   \n",
      "376                             Sawai Mansingh Stadium  HDPK Dharmasena   \n",
      "390         Punjab Cricket Association Stadium, Mohali        Aleem Dar   \n",
      "542                                   Feroz Shah Kotla        M Erasmus   \n",
      "590             Saurashtra Cricket Association Stadium       K Bharatan   \n",
      "\n",
      "             umpire2  \n",
      "2          CK Nandan  \n",
      "34         CK Nandan  \n",
      "71        SL Shastri  \n",
      "119        SD Ranade  \n",
      "183        DJ Harper  \n",
      "298       PR Reiffel  \n",
      "376    C Shamshuddin  \n",
      "390    C Shamshuddin  \n",
      "542           S Ravi  \n",
      "590  HDPK Dharmasena  \n"
     ]
    }
   ],
   "source": [
    "# Step 11: Find matches with maximum win by wickets\n",
    "max_win_by_wickets = dataset['win_by_wickets'].max()\n",
    "print(f\"\\nMaximum win by wickets: {max_win_by_wickets}\")\n",
    "print(\"\\nMatches with the highest win by wickets:\")\n",
    "print(dataset[dataset['win_by_wickets'] == max_win_by_wickets])"
   ]
  },
  {
   "cell_type": "code",
   "execution_count": 13,
   "id": "dca87879-55ba-4ce8-a858-13ed5d865027",
   "metadata": {},
   "outputs": [],
   "source": [
    "# Step 12: Visualize toss decisions by season\n",
    "plt.figure(figsize=(12, 6))\n",
    "sns.countplot(x='season', hue='toss_decision', data=dataset)\n",
    "plt.title('Toss Decisions by Season')\n",
    "plt.xlabel('Season')\n",
    "plt.ylabel('Count')\n",
    "plt.savefig('toss_decisions_by_season.png')\n",
    "plt.close()\n"
   ]
  },
  {
   "cell_type": "code",
   "execution_count": 14,
   "id": "956fde29-b570-4827-a2df-e1252c02636f",
   "metadata": {},
   "outputs": [
    {
     "name": "stdout",
     "output_type": "stream",
     "text": [
      "\n",
      "Teams with most toss wins:\n",
      "toss_winner\n",
      "Mumbai Indians                 85\n",
      "Kolkata Knight Riders          78\n",
      "Delhi Daredevils               72\n",
      "Royal Challengers Bangalore    70\n",
      "Kings XI Punjab                68\n",
      "Chennai Super Kings            66\n",
      "Rajasthan Royals               63\n",
      "Deccan Chargers                43\n",
      "Sunrisers Hyderabad            35\n",
      "Pune Warriors                  20\n",
      "Gujarat Lions                  15\n",
      "Kochi Tuskers Kerala            8\n",
      "Rising Pune Supergiants         7\n",
      "Rising Pune Supergiant          6\n",
      "Name: count, dtype: int64\n"
     ]
    }
   ],
   "source": [
    "# Step 13: Analyze toss winners\n",
    "toss_winners = dataset['toss_winner'].value_counts()\n",
    "print(\"\\nTeams with most toss wins:\")\n",
    "print(toss_winners)"
   ]
  },
  {
   "cell_type": "code",
   "execution_count": 15,
   "id": "bdfaa180-116b-4324-9111-d61312aa2a0e",
   "metadata": {},
   "outputs": [],
   "source": [
    "plt.figure(figsize=(12, 6))\n",
    "toss_winners.plot(kind='bar')\n",
    "plt.title('Number of Tosses Won by Each Team')\n",
    "plt.xlabel('Team')\n",
    "plt.ylabel('Number of Tosses Won')\n",
    "plt.savefig('toss_winners.png')\n",
    "plt.close()\n"
   ]
  },
  {
   "cell_type": "code",
   "execution_count": 16,
   "id": "7b4753b1-e308-4d7c-af4d-ee476044400b",
   "metadata": {},
   "outputs": [
    {
     "name": "stdout",
     "output_type": "stream",
     "text": [
      "\n",
      "Matches played by each team:\n",
      "   team_name  matches_played\n",
      "0         MI             157\n",
      "1        RCB             152\n",
      "2        KKR             148\n",
      "3       KXIP             148\n",
      "4         DD             147\n",
      "5        CSK             131\n",
      "6         RR             118\n",
      "7        SRH              76\n",
      "8         DC              75\n",
      "9         PW              46\n",
      "10        GL              30\n",
      "11       RPS              30\n",
      "12       KTK              14\n"
     ]
    }
   ],
   "source": [
    "# Step 14: Calculate matches played by each team\n",
    "matches_played_by_teams = pd.concat([dataset['team1'], dataset['team2']], axis=0)\n",
    "matches_played = matches_played_by_teams.value_counts().reset_index()\n",
    "matches_played.columns = ['team_name', 'matches_played']\n",
    "print(\"\\nMatches played by each team:\")\n",
    "print(matches_played)"
   ]
  },
  {
   "cell_type": "code",
   "execution_count": 17,
   "id": "8b0afb8e-56fd-42b6-ad54-a1902f5423f3",
   "metadata": {},
   "outputs": [],
   "source": [
    "# Step 15: Map winner names to abbreviations for consistency\n",
    "dataset['winner'] = dataset['winner'].map(Teams)"
   ]
  },
  {
   "cell_type": "code",
   "execution_count": 18,
   "id": "636ff3a3-9911-43e5-87be-3a16c69911c3",
   "metadata": {},
   "outputs": [
    {
     "name": "stdout",
     "output_type": "stream",
     "text": [
      "\n",
      "Wins by each team:\n",
      "   team_name  wins\n",
      "0         MI    92\n",
      "1        CSK    79\n",
      "2        KKR    77\n",
      "3        RCB    73\n",
      "4       KXIP    70\n",
      "5         RR    63\n",
      "6         DD    62\n",
      "7        SRH    42\n",
      "8         DC    29\n",
      "9        RPS    15\n",
      "10        GL    13\n",
      "11        PW    12\n",
      "12       KTK     6\n"
     ]
    }
   ],
   "source": [
    "# Step 16: Calculate wins for each team\n",
    "wins = dataset['winner'].value_counts().reset_index()\n",
    "wins.columns = ['team_name', 'wins']\n",
    "print(\"\\nWins by each team:\")\n",
    "print(wins)"
   ]
  },
  {
   "cell_type": "code",
   "execution_count": 19,
   "id": "20232add-a2b0-49e4-a16e-df8364f50cc3",
   "metadata": {},
   "outputs": [],
   "source": [
    "# Step 17: Merge matches played and wins data\n",
    "team_performance = matches_played.merge(wins, on='team_name', how='inner')\n",
    "team_performance.columns = ['team', 'matches_played', 'wins']"
   ]
  },
  {
   "cell_type": "code",
   "execution_count": 20,
   "id": "57cf5e3a-d35b-4a34-a6df-243877edaa57",
   "metadata": {},
   "outputs": [
    {
     "name": "stdout",
     "output_type": "stream",
     "text": [
      "\n",
      "Team performance including win percentage:\n",
      "    team  matches_played  wins  win_percentage\n",
      "5    CSK             131    79       60.305344\n",
      "0     MI             157    92       58.598726\n",
      "7    SRH              76    42       55.263158\n",
      "6     RR             118    63       53.389831\n",
      "2    KKR             148    77       52.027027\n",
      "11   RPS              30    15       50.000000\n",
      "1    RCB             152    73       48.026316\n",
      "3   KXIP             148    70       47.297297\n",
      "10    GL              30    13       43.333333\n",
      "12   KTK              14     6       42.857143\n",
      "4     DD             147    62       42.176871\n",
      "8     DC              75    29       38.666667\n",
      "9     PW              46    12       26.086957\n"
     ]
    }
   ],
   "source": [
    "# Step 18: Calculate win percentage for each team\n",
    "team_performance['win_percentage'] = (team_performance['wins'] / team_performance['matches_played']) * 100\n",
    "print(\"\\nTeam performance including win percentage:\")\n",
    "print(team_performance.sort_values('win_percentage', ascending=False))"
   ]
  },
  {
   "cell_type": "code",
   "execution_count": 21,
   "id": "ac5e7674-ba93-4e13-8578-44db500f54f5",
   "metadata": {},
   "outputs": [
    {
     "data": {
      "text/plain": [
       "<Figure size 1400x800 with 0 Axes>"
      ]
     },
     "metadata": {},
     "output_type": "display_data"
    }
   ],
   "source": [
    "\n",
    "# Step 19: Visualize team performances\n",
    "plt.figure(figsize=(14, 8))\n",
    "x = np.arange(len(team_performance['team']))\n",
    "width = 0.35\n",
    "\n",
    "fig, ax = plt.subplots(figsize=(14, 8))\n",
    "matches = ax.bar(x - width/2, team_performance['matches_played'], width, label='Matches Played')\n",
    "wins = ax.bar(x + width/2, team_performance['wins'], width, label='Matches Won')\n",
    "\n",
    "ax.set_xlabel('Teams')\n",
    "ax.set_ylabel('Count')\n",
    "ax.set_title('Matches Played vs Matches Won by Each Team')\n",
    "ax.set_xticks(x)\n",
    "ax.set_xticklabels(team_performance['team'], rotation=45)\n",
    "ax.legend()\n",
    "\n",
    "plt.tight_layout()\n",
    "plt.savefig('team_performance.png')\n",
    "plt.close()"
   ]
  },
  {
   "cell_type": "code",
   "execution_count": 24,
   "id": "970fde68-7de4-4bcd-b2a1-1229f395585f",
   "metadata": {},
   "outputs": [],
   "source": [
    "\n",
    "# Step 20: Visualize win percentages\n",
    "plt.figure(figsize=(12, 6))\n",
    "sns.barplot(x='team', y='win_percentage', data=team_performance.sort_values('win_percentage', ascending=False))\n",
    "plt.title('Win Percentage of Each Team')\n",
    "plt.xlabel('Team')\n",
    "plt.ylabel('Win Percentage')\n",
    "plt.xticks(rotation=45)\n",
    "plt.tight_layout()\n",
    "plt.savefig('win_percentage.png')\n",
    "plt.close()"
   ]
  }
 ],
 "metadata": {
  "kernelspec": {
   "display_name": "Python (llm)",
   "language": "python",
   "name": "llm"
  },
  "language_info": {
   "codemirror_mode": {
    "name": "ipython",
    "version": 3
   },
   "file_extension": ".py",
   "mimetype": "text/x-python",
   "name": "python",
   "nbconvert_exporter": "python",
   "pygments_lexer": "ipython3",
   "version": "3.11.10"
  }
 },
 "nbformat": 4,
 "nbformat_minor": 5
}
