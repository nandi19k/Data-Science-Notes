{
 "cells": [
  {
   "cell_type": "markdown",
   "id": "53d22e80-343a-43b9-aa36-a57f39af69d5",
   "metadata": {},
   "source": [
    "# Pandas Series: A Comprehensive Introduction\n",
    "\n",
    "## Installation\n",
    "```python\n",
    "# Install pandas using pip\n",
    "pip install pandas\n",
    "\n",
    "# Install pandas using conda\n",
    "conda install pandas\n",
    "```\n",
    "\n",
    "\n",
    "## Introduction to Pandas\n",
    "Pandas is the most popular Python library used for data analysis and manipulation. It provides highly optimized performance with back-end source code written purely in C or Python. Two primary data structures in pandas are:\n",
    "\n",
    "* **Series** - One-dimensional labeled arrays\n",
    "* **DataFrames** - Two-dimensional labeled data structures with columns of potentially different types\n",
    "\n",
    "This tutorial focuses on Series objects, their creation, properties, and operations.\n",
    "\n",
    "## What is a Series?\n",
    "A Series is a one-dimensional (1-D) labeled array defined in pandas that can store data of any type. While similar to NumPy arrays, Series have two key advantages:\n",
    "\n",
    "1. **Labeled indices**: Series can be indexed by custom labels, not just numeric positions\n",
    "2. **Flexible data types**: Series can hold any arbitrary Python objects, not just numeric data"
   ]
  },
  {
   "cell_type": "markdown",
   "id": "2c9351d4-b41a-4b32-9023-1c9e6d435753",
   "metadata": {},
   "source": [
    "# Creating Series Objects\n",
    "Let's start by importing the necessary libraries:"
   ]
  },
  {
   "cell_type": "code",
   "execution_count": 1,
   "id": "99e39458-6bab-4b0e-bab2-158ab5c3ff50",
   "metadata": {},
   "outputs": [],
   "source": [
    "import numpy as np\n",
    "import pandas as pd"
   ]
  },
  {
   "cell_type": "markdown",
   "id": "19918050-1367-4f3a-b5e6-a8835b49d8ca",
   "metadata": {},
   "source": [
    "## Method 1: Creating a Series from a list\n",
    "The simplest way to create a Series is from a Python list:\n",
    "\n",
    "Notice that pandas automatically created numeric indices (0, 1, 2, 3) for our Series."
   ]
  },
  {
   "cell_type": "code",
   "execution_count": 2,
   "id": "8f54b301-99b6-47bb-960d-028f8791af1f",
   "metadata": {},
   "outputs": [
    {
     "name": "stdout",
     "output_type": "stream",
     "text": [
      "0    10\n",
      "1    20\n",
      "2    30\n",
      "3    40\n",
      "dtype: int64\n"
     ]
    }
   ],
   "source": [
    "# Creating a simple list\n",
    "my_list = [10, 20, 30, 40]\n",
    "\n",
    "# Converting the list to a Series\n",
    "simple_series = pd.Series(data=my_list)\n",
    "print(simple_series)"
   ]
  },
  {
   "cell_type": "markdown",
   "id": "846359af-653f-4e0e-bdd2-7ba909136109",
   "metadata": {},
   "source": [
    "## Method 2: Creating a Series with custom indices\n",
    "We can assign custom labels to our Series values using the index parameter:\n",
    "\n",
    "Now we can access values using these custom labels instead of numeric positions.\n"
   ]
  },
  {
   "cell_type": "code",
   "execution_count": 3,
   "id": "01ea5c3d-c973-4f7d-80a1-50e34ea5d7c8",
   "metadata": {},
   "outputs": [
    {
     "name": "stdout",
     "output_type": "stream",
     "text": [
      "a    10\n",
      "b    20\n",
      "c    30\n",
      "d    40\n",
      "dtype: int64\n"
     ]
    }
   ],
   "source": [
    "# Creating custom labels\n",
    "labels = ['a', 'b', 'c', 'd']\n",
    "\n",
    "# Creating a Series with custom indices\n",
    "labeled_series = pd.Series(data=my_list, index=labels)\n",
    "print(labeled_series)"
   ]
  },
  {
   "cell_type": "markdown",
   "id": "0bc58da6-7ff1-43ec-a9a4-f3731449662e",
   "metadata": {},
   "source": [
    "## Method 3: Creating a Series from a NumPy array\n",
    "Series can also be created from NumPy arrays:"
   ]
  },
  {
   "cell_type": "code",
   "execution_count": 4,
   "id": "962ddaed-d8db-46c0-b679-8c3e40006398",
   "metadata": {},
   "outputs": [
    {
     "name": "stdout",
     "output_type": "stream",
     "text": [
      "NumPy array:\n",
      "[10 20 30 40]\n",
      "\n",
      "Series from array:\n",
      "a    10\n",
      "b    20\n",
      "c    30\n",
      "d    40\n",
      "dtype: int64\n"
     ]
    }
   ],
   "source": [
    "# Create a NumPy array\n",
    "arr = np.array(my_list)\n",
    "print(\"NumPy array:\")\n",
    "print(arr)\n",
    "\n",
    "# Convert array to Series with custom indices\n",
    "array_series = pd.Series(arr, labels)\n",
    "print(\"\\nSeries from array:\")\n",
    "print(array_series)"
   ]
  },
  {
   "cell_type": "markdown",
   "id": "f26bae49-38ca-4cf4-aaf9-8c93b52bf03b",
   "metadata": {},
   "source": [
    "## Method 4: Creating a Series from a dictionary\n",
    "Dictionaries are a natural fit for Series since they already have key-value pairs:"
   ]
  },
  {
   "cell_type": "code",
   "execution_count": 5,
   "id": "288909c8-ed97-4203-961a-e6ca961fa9b2",
   "metadata": {},
   "outputs": [
    {
     "name": "stdout",
     "output_type": "stream",
     "text": [
      "a    10\n",
      "b    20\n",
      "c    30\n",
      "d    40\n",
      "dtype: int64\n"
     ]
    }
   ],
   "source": [
    "# Create a dictionary\n",
    "d = {'a': 10, 'b': 20, 'c': 30, 'd': 40}\n",
    "\n",
    "# Convert dictionary to Series\n",
    "dict_series = pd.Series(data=d)\n",
    "print(dict_series)"
   ]
  },
  {
   "cell_type": "markdown",
   "id": "23d0e146-6a33-4c07-a91b-d25f5de07be9",
   "metadata": {},
   "source": [
    "## Method 5: Creating a Series with non-numeric data\n",
    "Series can hold a variety of object types, not just numbers:"
   ]
  },
  {
   "cell_type": "code",
   "execution_count": 6,
   "id": "2cc215bb-1f0c-4d4a-b8e5-6cbd0dcbbfcc",
   "metadata": {},
   "outputs": [
    {
     "name": "stdout",
     "output_type": "stream",
     "text": [
      "0    a\n",
      "1    b\n",
      "2    c\n",
      "3    d\n",
      "dtype: object\n"
     ]
    }
   ],
   "source": [
    "# Creating a Series with string data\n",
    "str_series = pd.Series(data=labels)\n",
    "print(str_series)"
   ]
  },
  {
   "cell_type": "markdown",
   "id": "2327fc2e-5faa-412c-b9e6-540ba3b6bf54",
   "metadata": {},
   "source": [
    "# Accessing Series Elements\n",
    "## By label index"
   ]
  },
  {
   "cell_type": "code",
   "execution_count": 7,
   "id": "ded304b2-abe4-4084-8e72-3e4b2ba8a0d1",
   "metadata": {},
   "outputs": [
    {
     "name": "stdout",
     "output_type": "stream",
     "text": [
      "First Series:\n",
      "nandu       1\n",
      "nani        2\n",
      "venky       3\n",
      "jaswanth    4\n",
      "dtype: int64\n",
      "\n",
      "Second Series:\n",
      "nani      1\n",
      "chakri    2\n",
      "nandu     4\n",
      "venky     6\n",
      "dtype: int64\n",
      "\n",
      "Accessing 'nandu' from first Series: 1\n",
      "Accessing 'nandu' from second Series: 4\n"
     ]
    }
   ],
   "source": [
    "# Create two Series with different indices\n",
    "ser1 = pd.Series([1, 2, 3, 4], index=['nandu', 'nani', 'venky', 'jaswanth'])\n",
    "ser2 = pd.Series([1, 2, 4, 6], index=['nani', 'chakri', 'nandu', 'venky'])\n",
    "\n",
    "print(\"First Series:\")\n",
    "print(ser1)\n",
    "print(\"\\nSecond Series:\")\n",
    "print(ser2)\n",
    "\n",
    "# Access by label\n",
    "print(\"\\nAccessing 'nandu' from first Series:\", ser1['nandu'])\n",
    "print(\"Accessing 'nandu' from second Series:\", ser2['nandu'])"
   ]
  },
  {
   "cell_type": "markdown",
   "id": "b04c9cb9-4465-42b2-87e5-915091ba9d9c",
   "metadata": {},
   "source": [
    "## Extracting values as arrays\n",
    "You can extract the underlying NumPy array using the .values attribute:"
   ]
  },
  {
   "cell_type": "code",
   "execution_count": 8,
   "id": "4dbf8735-7bb8-4191-b368-606b8db45665",
   "metadata": {},
   "outputs": [
    {
     "name": "stdout",
     "output_type": "stream",
     "text": [
      "Values from first Series: [1 2 3 4]\n",
      "Values from second Series: [1 2 4 6]\n"
     ]
    }
   ],
   "source": [
    "print(\"Values from first Series:\", ser1.values)\n",
    "print(\"Values from second Series:\", ser2.values)"
   ]
  },
  {
   "cell_type": "markdown",
   "id": "e8bf7a49-5487-4675-b67b-5c4868026d59",
   "metadata": {},
   "source": [
    "# Operations with Series\n",
    "## Arithmetic Operations\n",
    "Series support vectorized operations like addition, subtraction, etc. When performing operations between Series with different indices, pandas aligns them by index labels:\n"
   ]
  },
  {
   "cell_type": "code",
   "execution_count": 9,
   "id": "71d59430-593f-4162-a11e-2a8d9c3ecbe0",
   "metadata": {},
   "outputs": [
    {
     "name": "stdout",
     "output_type": "stream",
     "text": [
      "Result of ser1 + ser2:\n",
      "chakri      NaN\n",
      "jaswanth    NaN\n",
      "nandu       5.0\n",
      "nani        3.0\n",
      "venky       9.0\n",
      "dtype: float64\n"
     ]
    }
   ],
   "source": [
    "# Adding two Series with some common indices\n",
    "\n",
    "# Note: The result includes all indices from both Series. For indices that appear in only one Series, the result is NaN (Not a Number). For common indices, values are added together.\n",
    "result = ser1 + ser2\n",
    "print(\"Result of ser1 + ser2:\")\n",
    "print(result)"
   ]
  },
  {
   "cell_type": "markdown",
   "id": "34cbbd07-71f6-4d83-bbc8-3daf068d6565",
   "metadata": {},
   "source": [
    "## Common Series Attributes and Methods"
   ]
  },
  {
   "cell_type": "code",
   "execution_count": 10,
   "id": "362e5f19-da58-4d41-b72e-d70a46764512",
   "metadata": {},
   "outputs": [
    {
     "name": "stdout",
     "output_type": "stream",
     "text": [
      "Length of ser1: 4\n",
      "Does 'nandu' exist in ser1? True\n",
      "Mean of ser1: 2.5\n",
      "Sum of ser1: 10\n",
      "Min of ser1: 1\n",
      "Max of ser1: 4\n",
      "\n",
      "Summary statistics:\n",
      "count    4.000000\n",
      "mean     2.500000\n",
      "std      1.290994\n",
      "min      1.000000\n",
      "25%      1.750000\n",
      "50%      2.500000\n",
      "75%      3.250000\n",
      "max      4.000000\n",
      "dtype: float64\n"
     ]
    }
   ],
   "source": [
    "# Series length\n",
    "print(\"Length of ser1:\", len(ser1))\n",
    "\n",
    "# Check if index exists\n",
    "print(\"Does 'nandu' exist in ser1?\", 'nandu' in ser1)\n",
    "\n",
    "# Basic statistics\n",
    "print(\"Mean of ser1:\", ser1.mean())\n",
    "print(\"Sum of ser1:\", ser1.sum())\n",
    "print(\"Min of ser1:\", ser1.min())\n",
    "print(\"Max of ser1:\", ser1.max())\n",
    "\n",
    "# Describe - gives summary statistics\n",
    "print(\"\\nSummary statistics:\")\n",
    "print(ser1.describe())"
   ]
  },
  {
   "cell_type": "markdown",
   "id": "4df3191f-f28d-486e-aa8e-68c8efa644df",
   "metadata": {},
   "source": [
    "## Conclusion\n",
    "\n",
    "Pandas Series are powerful one-dimensional data structures that combine the best features of NumPy arrays and Python dictionaries. They provide a foundation for data analysis in pandas and are essential building blocks for DataFrames.\n",
    "\n",
    "Key benefits of Series include:\n",
    "- Custom labeling of data points\n",
    "- Automatic alignment of data by index for operations\n",
    "- Built-in handling of missing data\n",
    "- Rich set of methods for data manipulation and analysis\n",
    "\n",
    "In the next tutorial, we'll explore DataFrames, which extend these concepts to two-dimensional data structures with labeled rows and columns."
   ]
  }
 ],
 "metadata": {
  "kernelspec": {
   "display_name": "Python (llm)",
   "language": "python",
   "name": "llm"
  },
  "language_info": {
   "codemirror_mode": {
    "name": "ipython",
    "version": 3
   },
   "file_extension": ".py",
   "mimetype": "text/x-python",
   "name": "python",
   "nbconvert_exporter": "python",
   "pygments_lexer": "ipython3",
   "version": "3.11.10"
  }
 },
 "nbformat": 4,
 "nbformat_minor": 5
}
