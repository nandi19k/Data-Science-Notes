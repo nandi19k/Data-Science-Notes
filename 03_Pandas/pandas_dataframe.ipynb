{
 "cells": [
  {
   "cell_type": "markdown",
   "id": "72561686-8204-492c-b5eb-e1ffc514b5f1",
   "metadata": {},
   "source": [
    "# Pandas DataFrame: A Comprehensive Tutorial\n",
    "\n",
    "## Introduction to DataFrames\n",
    "A DataFrame is a two-dimensional, size-mutable, potentially heterogeneous tabular data structure in pandas. We can think of a DataFrame as a collection of Series objects that share the same index. DataFrames provide a flexible and powerful way to organize, manipulate, and analyze structured data.\n",
    "\n",
    "## Installation\n",
    "```python\n",
    "# Install pandas using pip\n",
    "pip install pandas\n",
    "\n",
    "# Install pandas using conda\n",
    "conda install pandas\n",
    "```"
   ]
  },
  {
   "cell_type": "markdown",
   "id": "70b97519-a09d-44f5-839a-9529277f553b",
   "metadata": {},
   "source": [
    "# Importing Libraries\n"
   ]
  },
  {
   "cell_type": "code",
   "execution_count": 2,
   "id": "2ada0b19-4bd4-4cc6-add0-a24cdc3f0fee",
   "metadata": {},
   "outputs": [],
   "source": [
    "import numpy as np\n",
    "import pandas as pd"
   ]
  },
  {
   "cell_type": "markdown",
   "id": "5015ee64-d6ed-4441-bc13-aa96c62cefd0",
   "metadata": {},
   "source": [
    "# Creating DataFrames"
   ]
  },
  {
   "cell_type": "markdown",
   "id": "7958a646-9ec7-4440-93b3-6da66505257e",
   "metadata": {},
   "source": [
    "## Method 1: Creating a DataFrame from a Dictionary\n",
    "Dictionaries provide a natural way to define column-oriented data:"
   ]
  },
  {
   "cell_type": "markdown",
   "id": "97dd1287-fe5d-4b23-bd19-6268016de8f4",
   "metadata": {},
   "source": [
    "# Creating a dictionary with state and year data\n",
    "dict1 = {'state': ['Andra Pradesh', 'Telangana'], 'year': [2020, 2021]}\n",
    "\n",
    "# Converting the dictionary to a DataFrame\n",
    "df = pd.DataFrame(dict1)\n",
    "print(df)"
   ]
  },
  {
   "cell_type": "markdown",
   "id": "c60c4832-b115-4cc4-bace-63b22defcab9",
   "metadata": {},
   "source": [
    "By default, pandas assigns numeric indices (0, 1, ...) to rows. We can specify custom row indices:"
   ]
  },
  {
   "cell_type": "code",
   "execution_count": 5,
   "id": "5ce038ed-505f-4f6b-8d80-344317ff7016",
   "metadata": {},
   "outputs": [
    {
     "name": "stdout",
     "output_type": "stream",
     "text": [
      "              state  year\n",
      "row1  Andra Pradesh  2020\n",
      "row2      Telangana  2021\n"
     ]
    }
   ],
   "source": [
    "# Creating a DataFrame with custom row indices\n",
    "df = pd.DataFrame(dict1, index=['row1', 'row2'])\n",
    "print(df)"
   ]
  },
  {
   "cell_type": "markdown",
   "id": "60644a18-8c17-4273-8205-49b0eab220c3",
   "metadata": {},
   "source": [
    "## Method 2: Creating a DataFrame from NumPy Arrays\n",
    "We can create DataFrames from numerical data using NumPy arrays:"
   ]
  },
  {
   "cell_type": "code",
   "execution_count": 7,
   "id": "dee06aa7-1e78-4623-b26b-8c07267385b7",
   "metadata": {},
   "outputs": [
    {
     "name": "stdout",
     "output_type": "stream",
     "text": [
      "          0         1         2         3         4\n",
      "0  1.331587  0.715279 -1.545400 -0.008384  0.621336\n",
      "1 -0.720086  0.265512  0.108549  0.004291 -0.174600\n",
      "2  0.433026  1.203037 -0.965066  1.028274  0.228630\n",
      "3  0.445138 -1.136602  0.135137  1.484537 -1.079805\n",
      "4 -1.977728 -1.743372  0.266070  2.384967  1.123691\n"
     ]
    }
   ],
   "source": [
    "# Setting a random seed for reproducibility\n",
    "np.random.seed(10)\n",
    "\n",
    "# Creating a DataFrame from a random 5x5 array\n",
    "df2 = pd.DataFrame(np.random.randn(5, 5))\n",
    "print(df2)"
   ]
  },
  {
   "cell_type": "markdown",
   "id": "7d6e12eb-f193-4e1c-b04e-f14c8751b230",
   "metadata": {},
   "source": [
    "We can customize both row indices and column names:"
   ]
  },
  {
   "cell_type": "code",
   "execution_count": 9,
   "id": "1ce09aa8-665c-49de-b455-78e4a98e0d53",
   "metadata": {},
   "outputs": [
    {
     "name": "stdout",
     "output_type": "stream",
     "text": [
      "          col1      col2      col3      col4      col5\n",
      "row1  1.331587  0.715279 -1.545400 -0.008384  0.621336\n",
      "row2 -0.720086  0.265512  0.108549  0.004291 -0.174600\n",
      "row3  0.433026  1.203037 -0.965066  1.028274  0.228630\n",
      "row4  0.445138 -1.136602  0.135137  1.484537 -1.079805\n",
      "row5 -1.977728 -1.743372  0.266070  2.384967  1.123691\n"
     ]
    }
   ],
   "source": [
    "# Creating a DataFrame with custom row indices and column names\n",
    "np.random.seed(10)\n",
    "df2 = pd.DataFrame(\n",
    "    np.random.randn(5, 5),\n",
    "    index=['row1', 'row2', 'row3', 'row4', 'row5'],\n",
    "    columns=['col1', 'col2', 'col3', 'col4', 'col5']\n",
    ")\n",
    "print(df2)"
   ]
  },
  {
   "cell_type": "markdown",
   "id": "40359075-f4e7-4d75-867a-8a46a1dc2f83",
   "metadata": {},
   "source": [
    "## Accessing DataFrame Elements\n",
    "Selecting Columns\n",
    "\n",
    "Single Column Selection\n",
    "\n",
    "When we select a single column, pandas returns it as a Series:"
   ]
  },
  {
   "cell_type": "code",
   "execution_count": 10,
   "id": "39e9a890-968f-4c0d-b3b6-0fedefd4d948",
   "metadata": {},
   "outputs": [
    {
     "name": "stdout",
     "output_type": "stream",
     "text": [
      "row1    1.331587\n",
      "row2   -0.720086\n",
      "row3    0.433026\n",
      "row4    0.445138\n",
      "row5   -1.977728\n",
      "Name: col1, dtype: float64\n"
     ]
    }
   ],
   "source": [
    "# Selecting a single column\n",
    "col1_series = df2['col1']\n",
    "print(col1_series)"
   ]
  },
  {
   "cell_type": "code",
   "execution_count": 11,
   "id": "84688299-6849-44f4-beca-4ffcdb9c621f",
   "metadata": {},
   "outputs": [
    {
     "name": "stdout",
     "output_type": "stream",
     "text": [
      "row1   -0.008384\n",
      "row2    0.004291\n",
      "row3    1.028274\n",
      "row4    1.484537\n",
      "row5    2.384967\n",
      "Name: col4, dtype: float64\n"
     ]
    }
   ],
   "source": [
    "# Selecting another column\n",
    "col4_series = df2['col4']\n",
    "print(col4_series)"
   ]
  },
  {
   "cell_type": "markdown",
   "id": "3448103d-2a9c-4b98-8cda-c3e83b5ff13b",
   "metadata": {},
   "source": [
    "## Multiple Column Selection\n",
    "To select multiple columns, we use a list of column names:"
   ]
  },
  {
   "cell_type": "code",
   "execution_count": 12,
   "id": "2f998ddb-ce63-4ef7-b22d-7bde8707c5ff",
   "metadata": {},
   "outputs": [
    {
     "name": "stdout",
     "output_type": "stream",
     "text": [
      "          col1      col2\n",
      "row1  1.331587  0.715279\n",
      "row2 -0.720086  0.265512\n",
      "row3  0.433026  1.203037\n",
      "row4  0.445138 -1.136602\n",
      "row5 -1.977728 -1.743372\n"
     ]
    }
   ],
   "source": [
    "# Selecting multiple columns\n",
    "subset = df2[['col1', 'col2']]\n",
    "print(subset)"
   ]
  },
  {
   "cell_type": "code",
   "execution_count": 14,
   "id": "66e1abe8-75ed-4780-8938-3126ee4af898",
   "metadata": {},
   "outputs": [
    {
     "name": "stdout",
     "output_type": "stream",
     "text": [
      "          col1      col2\n",
      "row1  1.331587  0.715279\n",
      "row2 -0.720086  0.265512\n",
      "row3  0.433026  1.203037\n",
      "row4  0.445138 -1.136602\n",
      "row5 -1.977728 -1.743372\n"
     ]
    }
   ],
   "source": [
    "# Selecting multiple columns\n",
    "subset = df2[['col1', 'col2']]\n",
    "print(subset)"
   ]
  },
  {
   "cell_type": "markdown",
   "id": "85448722-7a1c-4afb-bd7a-3b8b6481714f",
   "metadata": {},
   "source": [
    "## Creating New Columns\n",
    "We can create new columns by performing operations on existing columns:"
   ]
  },
  {
   "cell_type": "code",
   "execution_count": 16,
   "id": "c58d4b6e-aa9d-4c81-9674-8d836b7a91bb",
   "metadata": {},
   "outputs": [
    {
     "name": "stdout",
     "output_type": "stream",
     "text": [
      "          col1      col2      col3      col4      col5       new\n",
      "row1  1.331587  0.715279 -1.545400 -0.008384  0.621336  2.046865\n",
      "row2 -0.720086  0.265512  0.108549  0.004291 -0.174600 -0.454574\n",
      "row3  0.433026  1.203037 -0.965066  1.028274  0.228630  1.636064\n",
      "row4  0.445138 -1.136602  0.135137  1.484537 -1.079805 -0.691465\n",
      "row5 -1.977728 -1.743372  0.266070  2.384967  1.123691 -3.721101\n"
     ]
    }
   ],
   "source": [
    "# Creating a new column as the sum of two existing columns\n",
    "df2['new'] = df2['col1'] + df2['col2']\n",
    "print(df2)"
   ]
  },
  {
   "cell_type": "markdown",
   "id": "eb238f66-1aaa-4f1f-8d16-d8f17612bb11",
   "metadata": {},
   "source": [
    "# Modifying DataFrames\n",
    "## Removing Columns\n",
    "We can remove columns using the drop() method with axis=1:"
   ]
  },
  {
   "cell_type": "code",
   "execution_count": 17,
   "id": "edeaa172-0c09-4250-acf7-c7b171779a9f",
   "metadata": {},
   "outputs": [
    {
     "name": "stdout",
     "output_type": "stream",
     "text": [
      "          col1      col2      col3      col4      col5\n",
      "row1  1.331587  0.715279 -1.545400 -0.008384  0.621336\n",
      "row2 -0.720086  0.265512  0.108549  0.004291 -0.174600\n",
      "row3  0.433026  1.203037 -0.965066  1.028274  0.228630\n",
      "row4  0.445138 -1.136602  0.135137  1.484537 -1.079805\n",
      "row5 -1.977728 -1.743372  0.266070  2.384967  1.123691\n"
     ]
    }
   ],
   "source": [
    "# Removing a column (not inplace)\n",
    "df_without_new = df2.drop('new', axis=1)\n",
    "print(df_without_new)"
   ]
  },
  {
   "cell_type": "markdown",
   "id": "4e3b27d0-e80a-4839-93b4-5915554f7dbc",
   "metadata": {},
   "source": [
    "Note that the original DataFrame is not modified. To modify the original DataFrame, use inplace=True:"
   ]
  },
  {
   "cell_type": "code",
   "execution_count": 18,
   "id": "6a68571a-231f-421e-a438-ea3d3d071e36",
   "metadata": {},
   "outputs": [
    {
     "name": "stdout",
     "output_type": "stream",
     "text": [
      "          col2      col3      col4      col5       new\n",
      "row1  0.715279 -1.545400 -0.008384  0.621336  2.046865\n",
      "row2  0.265512  0.108549  0.004291 -0.174600 -0.454574\n",
      "row3  1.203037 -0.965066  1.028274  0.228630  1.636064\n",
      "row4 -1.136602  0.135137  1.484537 -1.079805 -0.691465\n",
      "row5 -1.743372  0.266070  2.384967  1.123691 -3.721101\n"
     ]
    }
   ],
   "source": [
    "# Removing a column permanently\n",
    "df2.drop('col1', axis=1, inplace=True)\n",
    "print(df2)"
   ]
  },
  {
   "cell_type": "markdown",
   "id": "483114a3-61f1-4b7c-ab04-0ed5b059e8a3",
   "metadata": {},
   "source": [
    "## Removing Rows\n",
    "We can remove rows using the drop() method with axis=0 (which is the default):"
   ]
  },
  {
   "cell_type": "code",
   "execution_count": 20,
   "id": "5594495a-ad53-4c74-a766-914a10cddccd",
   "metadata": {},
   "outputs": [
    {
     "name": "stdout",
     "output_type": "stream",
     "text": [
      "          col2      col3      col4      col5       new\n",
      "row2  0.265512  0.108549  0.004291 -0.174600 -0.454574\n",
      "row3  1.203037 -0.965066  1.028274  0.228630  1.636064\n",
      "row4 -1.136602  0.135137  1.484537 -1.079805 -0.691465\n",
      "row5 -1.743372  0.266070  2.384967  1.123691 -3.721101\n"
     ]
    }
   ],
   "source": [
    "# Removing a row permanently\n",
    "df2.drop('row1', axis=0, inplace=True)\n",
    "print(df2)"
   ]
  },
  {
   "cell_type": "markdown",
   "id": "7d51468e-6258-4962-8d68-46d1b84ddf20",
   "metadata": {},
   "source": [
    "# Advanced Selection Methods\n",
    "## Using .loc[] for Label-based Indexing\n",
    "The .loc[] accessor is used for label-based indexing:"
   ]
  },
  {
   "cell_type": "code",
   "execution_count": 21,
   "id": "6c0894ed-7ede-4f13-b7e9-7a81c1db8d7f",
   "metadata": {},
   "outputs": [
    {
     "name": "stdout",
     "output_type": "stream",
     "text": [
      "col2    0.265512\n",
      "col3    0.108549\n",
      "col4    0.004291\n",
      "col5   -0.174600\n",
      "new    -0.454574\n",
      "Name: row2, dtype: float64\n"
     ]
    }
   ],
   "source": [
    "# Selecting a row by label\n",
    "row2_series = df2.loc['row2']\n",
    "print(row2_series)"
   ]
  },
  {
   "cell_type": "code",
   "execution_count": 22,
   "id": "efd4c566-61f7-4668-adb6-8ebde5ac79d4",
   "metadata": {},
   "outputs": [
    {
     "name": "stdout",
     "output_type": "stream",
     "text": [
      "row2    0.265512\n",
      "row3    1.203037\n",
      "row4   -1.136602\n",
      "row5   -1.743372\n",
      "Name: col2, dtype: float64\n"
     ]
    }
   ],
   "source": [
    "# Selecting a column using .loc\n",
    "col2_series = df2.loc[:, 'col2']\n",
    "print(col2_series)"
   ]
  },
  {
   "cell_type": "markdown",
   "id": "95fcab27-5dbb-4b59-96c7-be6403c35f75",
   "metadata": {},
   "source": [
    "## Using .iloc[] for Position-based Indexing\n",
    "The .iloc[] accessor is used for integer-location based indexing:"
   ]
  },
  {
   "cell_type": "code",
   "execution_count": 23,
   "id": "766bcc56-d6b1-4cef-8916-a4531ff9c1b7",
   "metadata": {},
   "outputs": [
    {
     "name": "stdout",
     "output_type": "stream",
     "text": [
      "col2    1.203037\n",
      "col3   -0.965066\n",
      "col4    1.028274\n",
      "col5    0.228630\n",
      "new     1.636064\n",
      "Name: row3, dtype: float64\n"
     ]
    }
   ],
   "source": [
    "# Selecting a row by position (second row, which is 'row3')\n",
    "second_row = df2.iloc[1]\n",
    "print(second_row)"
   ]
  },
  {
   "cell_type": "code",
   "execution_count": 24,
   "id": "4bd88e29-1495-4812-b3de-990b1199d4f2",
   "metadata": {},
   "outputs": [
    {
     "name": "stdout",
     "output_type": "stream",
     "text": [
      "row2    0.108549\n",
      "row3   -0.965066\n",
      "row4    0.135137\n",
      "row5    0.266070\n",
      "Name: col3, dtype: float64\n"
     ]
    }
   ],
   "source": [
    "# Selecting a column by position (second column, which is 'col3')\n",
    "second_col = df2.iloc[:, 1]\n",
    "print(second_col)"
   ]
  },
  {
   "cell_type": "markdown",
   "id": "2c8f0878-b187-4b78-b1da-142c0f7df00d",
   "metadata": {},
   "source": [
    "## Slicing with .iloc[] and .loc[]\n",
    "We can select subsets of the DataFrame using slicing:"
   ]
  },
  {
   "cell_type": "code",
   "execution_count": 25,
   "id": "bd76f4ce-7fd6-42d0-87a1-150e1cdd8cc5",
   "metadata": {},
   "outputs": [
    {
     "name": "stdout",
     "output_type": "stream",
     "text": [
      "          col3      col4      col5       new\n",
      "row2  0.108549  0.004291 -0.174600 -0.454574\n",
      "row3 -0.965066  1.028274  0.228630  1.636064\n",
      "row4  0.135137  1.484537 -1.079805 -0.691465\n",
      "row5  0.266070  2.384967  1.123691 -3.721101\n"
     ]
    }
   ],
   "source": [
    "# Selecting all rows and columns from position 1 onwards\n",
    "subset = df2.iloc[:, 1:]\n",
    "print(subset)"
   ]
  },
  {
   "cell_type": "code",
   "execution_count": 26,
   "id": "9b5e9cb9-1da4-4baa-a83d-f1daba524e72",
   "metadata": {},
   "outputs": [
    {
     "name": "stdout",
     "output_type": "stream",
     "text": [
      "          col3      col4\n",
      "row2  0.108549  0.004291\n",
      "row3 -0.965066  1.028274\n",
      "row4  0.135137  1.484537\n",
      "row5  0.266070  2.384967\n"
     ]
    }
   ],
   "source": [
    "# Selecting specific columns by name\n",
    "subset = df2.loc[:, ['col3', 'col4']]\n",
    "print(subset)"
   ]
  },
  {
   "cell_type": "markdown",
   "id": "dfeb2c64-ce5d-43b5-8b26-9ef081ebe73a",
   "metadata": {},
   "source": [
    "## Conclusion\n",
    "\n",
    "Pandas DataFrames are powerful data structures for data analysis that offer:\n",
    "\n",
    "1. **Flexible creation methods** - from dictionaries, arrays, and other data sources\n",
    "2. **Intuitive indexing** - both by label (`.loc[]`) and position (`.iloc[]`)\n",
    "3. **Easy manipulation** - adding, removing, and transforming columns and rows\n",
    "4. **Powerful selection capabilities** - for extracting specific subsets of data\n",
    "\n",
    "This tutorial covered the basics of creating, accessing, and modifying DataFrames. In practice, DataFrames offer many more advanced capabilities for data cleaning, transformation, grouping, and analysis.\n",
    "\n",
    "## Next Steps\n",
    "\n",
    "To deepen your understanding of pandas DataFrames, explore these additional topics:\n",
    "- Data cleaning and preprocessing\n",
    "- Grouping and aggregating data\n",
    "- Handling missing values\n",
    "- Merging and joining DataFrames\n",
    "- Time series analysis\n",
    "- Advanced indexing and selection"
   ]
  }
 ],
 "metadata": {
  "kernelspec": {
   "display_name": "Python (llm)",
   "language": "python",
   "name": "llm"
  },
  "language_info": {
   "codemirror_mode": {
    "name": "ipython",
    "version": 3
   },
   "file_extension": ".py",
   "mimetype": "text/x-python",
   "name": "python",
   "nbconvert_exporter": "python",
   "pygments_lexer": "ipython3",
   "version": "3.11.10"
  }
 },
 "nbformat": 4,
 "nbformat_minor": 5
}
