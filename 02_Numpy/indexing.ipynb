{
 "cells": [
  {
   "cell_type": "markdown",
   "metadata": {
    "id": "jXyaTOzkribd"
   },
   "source": [
    "# NumPy: A Comprehensive Guide\n",
    "\n",
    "NumPy is the fundamental package for scientific computing in Python. It provides powerful N-dimensional array objects, sophisticated functions, tools for integrating C/C++ code, and capabilities for linear algebra, Fourier transform, and random number generation.\n",
    "\n",
    "## Core Concepts and When to Use NumPy\n",
    "\n",
    "NumPy excels in scenarios requiring:\n",
    "\n",
    "1. **Efficient Numerical Operations**: NumPy's vectorized operations are orders of magnitude faster than Python loops.\n",
    "2. **Memory Efficiency**: NumPy arrays use less memory than Python lists for numerical data.\n",
    "3. **Mathematical Computations**: Ideal for complex mathematical operations on arrays of data.\n",
    "4. **Scientific Computing**: The foundation for data science libraries like pandas, matplotlib, and scikit-learn.\n",
    "5. **Data Analysis**: Simplifies handling of large datasets with its powerful array operations.\n",
    "s."
   ]
  },
  {
   "cell_type": "markdown",
   "metadata": {
    "id": "x7L57gihr1T6"
   },
   "source": [
    "![image.png](data:image/png;base64,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)"
   ]
  },
  {
   "cell_type": "markdown",
   "metadata": {
    "id": "M8rLBB1Hr81t"
   },
   "source": [
    "**How to install?**\r\n",
    "\r\n",
    "pip install numpy"
   ]
  },
  {
   "cell_type": "code",
   "execution_count": 1,
   "metadata": {
    "id": "q_qHiFO28bQZ"
   },
   "outputs": [
    {
     "data": {
      "text/plain": [
       "array([ 0,  1,  2,  3,  4,  5,  6,  7,  8,  9, 10])"
      ]
     },
     "execution_count": 1,
     "metadata": {},
     "output_type": "execute_result"
    }
   ],
   "source": [
    "# Import NumPy library with the conventional alias 'np'\n",
    "# NumPy must be installed first using 'pip install numpy'\n",
    "import numpy as np\n",
    "\n",
    "# Create a NumPy array with integers from 0 to 10 using arange function\n",
    "# arange(start, stop) generates values from start (inclusive) up to but not including stop\n",
    "arr = np.arange(0, 11)\n",
    "arr  # Displays the array with values [0,1,2,3,4,5,6,7,8,9,10]"
   ]
  },
  {
   "cell_type": "code",
   "execution_count": 2,
   "metadata": {
    "colab": {
     "base_uri": "https://localhost:8080/"
    },
    "id": "4ptTa-rx8dt7",
    "outputId": "d7895428-5461-4b0d-ce59-1d1de2ca2445"
   },
   "outputs": [
    {
     "data": {
      "text/plain": [
       "0"
      ]
     },
     "execution_count": 2,
     "metadata": {},
     "output_type": "execute_result"
    }
   ],
   "source": [
    "# Bracket Indexing - Access individual elements using index positions\n",
    "# Python uses zero-based indexing, so first element is at index 0\n",
    "arr[0]  # Returns the first element (0) from the arrayarr"
   ]
  },
  {
   "cell_type": "code",
   "execution_count": 3,
   "metadata": {},
   "outputs": [
    {
     "data": {
      "text/plain": [
       "array([3, 4, 5])"
      ]
     },
     "execution_count": 3,
     "metadata": {},
     "output_type": "execute_result"
    }
   ],
   "source": [
    "# Slicing - Extract a portion of the array using start:stop notation\n",
    "# This creates a view of the original array from index 3 up to (but not including) index 6\n",
    "arr[3:6]  # Returns array containing elements at indices 3, 4, and 5 [3,4,5]"
   ]
  },
  {
   "cell_type": "code",
   "execution_count": 4,
   "metadata": {},
   "outputs": [
    {
     "data": {
      "text/plain": [
       "array([3, 4, 5])"
      ]
     },
     "execution_count": 4,
     "metadata": {},
     "output_type": "execute_result"
    }
   ],
   "source": [
    "# Slicing - Extract a portion of the array using start:stop notation\n",
    "# This creates a view of the original array from index 3 up to (but not including) index 6\n",
    "arr[3:6]  # Returns array containing elements at indices 3, 4, and 5 [3,4,5]"
   ]
  },
  {
   "cell_type": "code",
   "execution_count": 5,
   "metadata": {},
   "outputs": [
    {
     "data": {
      "text/plain": [
       "array([10,  9,  8,  7,  6,  5,  4,  3,  2,  1,  0])"
      ]
     },
     "execution_count": 5,
     "metadata": {},
     "output_type": "execute_result"
    }
   ],
   "source": [
    "# Using step value in slicing with [::-1]\n",
    "# The -1 step means \"go backwards one step at a time\"\n",
    "# This creates a reversed view of the entire array\n",
    "arr[::-1]  # Returns the array in reverse order [10,9,8,7,6,5,4,3,2,1,0]"
   ]
  },
  {
   "cell_type": "code",
   "execution_count": 6,
   "metadata": {},
   "outputs": [
    {
     "data": {
      "text/plain": [
       "array([49, 49, 49, 49,  4,  5,  6,  7,  8,  9, 10])"
      ]
     },
     "execution_count": 6,
     "metadata": {},
     "output_type": "execute_result"
    }
   ],
   "source": [
    "# Broadcasting - Assign a single value to multiple elements simultaneously\n",
    "# This changes the first 4 elements (indices 0-3) to all have the value 49\n",
    "arr[0:4] = 49\n",
    "arr  # Shows the modified array [49,49,49,49,4,5,6,7,8,9,10]"
   ]
  },
  {
   "cell_type": "code",
   "execution_count": 7,
   "metadata": {},
   "outputs": [
    {
     "data": {
      "text/plain": [
       "array([ 0,  1,  2,  3,  4,  5,  6,  7,  8,  9, 10])"
      ]
     },
     "execution_count": 7,
     "metadata": {},
     "output_type": "execute_result"
    }
   ],
   "source": [
    "# Reset arr to its original values by creating a new array\n",
    "arr = np.arange(0, 11)\n",
    "arr  # Shows the reset array [0,1,2,3,4,5,6,7,8,9,10]"
   ]
  },
  {
   "cell_type": "code",
   "execution_count": 8,
   "metadata": {},
   "outputs": [
    {
     "data": {
      "text/plain": [
       "array([0, 1, 2, 3, 4])"
      ]
     },
     "execution_count": 8,
     "metadata": {},
     "output_type": "execute_result"
    }
   ],
   "source": [
    "# Creating a slice - This creates a view of the first 5 elements\n",
    "# Important: This does not create a new independent array!\n",
    "slicing_array = arr[0:5]\n",
    "slicing_array  # Shows [0,1,2,3,4]"
   ]
  },
  {
   "cell_type": "code",
   "execution_count": 9,
   "metadata": {},
   "outputs": [
    {
     "data": {
      "text/plain": [
       "array([100, 100, 100, 100, 100])"
      ]
     },
     "execution_count": 9,
     "metadata": {},
     "output_type": "execute_result"
    }
   ],
   "source": [
    "# Modifying the slice affects the original array!\n",
    "# This assigns 100 to all elements in the slice\n",
    "slicing_array[:] = 100\n",
    "slicing_array  # Shows [100,100,100,100,100]"
   ]
  },
  {
   "cell_type": "code",
   "execution_count": 10,
   "metadata": {},
   "outputs": [
    {
     "data": {
      "text/plain": [
       "array([100, 100, 100, 100, 100,   5,   6,   7,   8,   9,  10])"
      ]
     },
     "execution_count": 10,
     "metadata": {},
     "output_type": "execute_result"
    }
   ],
   "source": [
    "# To avoid modifying the original array, use copy() method\n",
    "# This creates a completely separate copy of the array\n",
    "arr_copy = arr.copy()\n",
    "arr_copy  # Shows [100,100,100,100,100,5,6,7,8,9,10]\n",
    "# Now modifications to arr_copy won't affect arr"
   ]
  },
  {
   "cell_type": "code",
   "execution_count": 11,
   "metadata": {},
   "outputs": [
    {
     "data": {
      "text/plain": [
       "array([[1, 2, 3],\n",
       "       [4, 5, 6],\n",
       "       [7, 8, 9]])"
      ]
     },
     "execution_count": 11,
     "metadata": {},
     "output_type": "execute_result"
    }
   ],
   "source": [
    "# Creating a 2D array (matrix) using nested lists\n",
    "# This creates a 3x3 matrix\n",
    "matrix = np.array([[1,2,3], [4,5,6], [7,8,9]])\n",
    "matrix  # Displays the 2D array as a matrix"
   ]
  },
  {
   "cell_type": "code",
   "execution_count": 12,
   "metadata": {},
   "outputs": [
    {
     "data": {
      "text/plain": [
       "(3, 3)"
      ]
     },
     "execution_count": 12,
     "metadata": {},
     "output_type": "execute_result"
    }
   ],
   "source": [
    "# Check the shape (dimensions) of the matrix\n",
    "# Returns a tuple (rows, columns)\n",
    "matrix.shape  # Returns (3, 3) indicating 3 rows and 3 columns"
   ]
  },
  {
   "cell_type": "code",
   "execution_count": 13,
   "metadata": {},
   "outputs": [
    {
     "data": {
      "text/plain": [
       "array([[2, 3],\n",
       "       [5, 6]])"
      ]
     },
     "execution_count": 13,
     "metadata": {},
     "output_type": "execute_result"
    }
   ],
   "source": [
    "# Slicing 2D arrays using row:row, column:column notation\n",
    "# This takes the first 2 rows (indices 0,1) and columns starting from index 1\n",
    "matrix[:2, 1:]  # Returns 2x2 array [[2,3], [5,6]]"
   ]
  },
  {
   "cell_type": "code",
   "execution_count": 14,
   "metadata": {},
   "outputs": [
    {
     "data": {
      "text/plain": [
       "array([[5, 6],\n",
       "       [8, 9]])"
      ]
     },
     "execution_count": 14,
     "metadata": {},
     "output_type": "execute_result"
    }
   ],
   "source": [
    "# Another 2D slicing example\n",
    "# Takes rows starting from index 1 and columns starting from index 1\n",
    "matrix[1:, 1:]  # Returns 2x2 array [[5,6], [8,9]]"
   ]
  },
  {
   "cell_type": "code",
   "execution_count": 15,
   "metadata": {},
   "outputs": [
    {
     "data": {
      "text/plain": [
       "array([ 1,  2,  3,  4,  5,  6,  7,  8,  9, 10, 11, 12, 13, 14])"
      ]
     },
     "execution_count": 15,
     "metadata": {},
     "output_type": "execute_result"
    }
   ],
   "source": [
    "# Creating a new array for boolean indexing examples\n",
    "arr = np.arange(1, 15)\n",
    "arr  # Shows array [1,2,3,4,5,6,7,8,9,10,11,12,13,14]"
   ]
  },
  {
   "cell_type": "code",
   "execution_count": 16,
   "metadata": {},
   "outputs": [
    {
     "data": {
      "text/plain": [
       "array([False, False, False, False, False,  True,  True,  True,  True,\n",
       "        True,  True,  True,  True,  True])"
      ]
     },
     "execution_count": 16,
     "metadata": {},
     "output_type": "execute_result"
    }
   ],
   "source": [
    "# Boolean comparison creates an array of True/False values\n",
    "# Each element is compared against the value 5\n",
    "arr > 5  # Returns [False,False,False,False,False,True,True,...] for each comparison"
   ]
  },
  {
   "cell_type": "code",
   "execution_count": 17,
   "metadata": {},
   "outputs": [
    {
     "data": {
      "text/plain": [
       "array([ 6,  7,  8,  9, 10, 11, 12, 13, 14])"
      ]
     },
     "execution_count": 17,
     "metadata": {},
     "output_type": "execute_result"
    }
   ],
   "source": [
    "# Storing boolean comparison results in a variable\n",
    "bool_arr = arr > 5\n",
    "\n",
    "# Boolean indexing - using the boolean array to filter elements\n",
    "# Only elements where the corresponding boolean value is True are returned\n",
    "arr[bool_arr]  # Returns array with only values greater than 5: [6,7,8,...,14]"
   ]
  },
  {
   "cell_type": "code",
   "execution_count": 18,
   "metadata": {},
   "outputs": [
    {
     "data": {
      "text/plain": [
       "array([ 6,  7,  8,  9, 10, 11, 12, 13, 14])"
      ]
     },
     "execution_count": 18,
     "metadata": {},
     "output_type": "execute_result"
    }
   ],
   "source": [
    "# Storing boolean comparison results in a variable\n",
    "bool_arr = arr > 5\n",
    "\n",
    "# Boolean indexing - using the boolean array to filter elements\n",
    "# Only elements where the corresponding boolean value is True are returned\n",
    "arr[bool_arr]  # Returns array with only values greater than 5: [6,7,8,...,14]"
   ]
  },
  {
   "cell_type": "code",
   "execution_count": 19,
   "metadata": {},
   "outputs": [
    {
     "data": {
      "text/plain": [
       "array([ 3,  4,  5,  6,  7,  8,  9, 10, 11, 12, 13, 14])"
      ]
     },
     "execution_count": 19,
     "metadata": {},
     "output_type": "execute_result"
    }
   ],
   "source": [
    "# Combining comparison and indexing in one step\n",
    "# This directly returns elements that satisfy the condition\n",
    "arr[arr > 2]  # Returns array with values greater than 2: [3,4,5,...,14]"
   ]
  }
 ],
 "metadata": {
  "colab": {
   "name": "Numpy Indexing.ipynb",
   "provenance": []
  },
  "kernelspec": {
   "display_name": "Python 3 (ipykernel)",
   "language": "python",
   "name": "python3"
  },
  "language_info": {
   "codemirror_mode": {
    "name": "ipython",
    "version": 3
   },
   "file_extension": ".py",
   "mimetype": "text/x-python",
   "name": "python",
   "nbconvert_exporter": "python",
   "pygments_lexer": "ipython3",
   "version": "3.11.10"
  }
 },
 "nbformat": 4,
 "nbformat_minor": 4
}
